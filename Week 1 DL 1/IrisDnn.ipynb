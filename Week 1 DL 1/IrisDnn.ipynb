{
  "nbformat": 4,
  "nbformat_minor": 0,
  "metadata": {
    "colab": {
      "name": "IrisDnn.ipynb",
      "provenance": [],
      "include_colab_link": true
    },
    "kernelspec": {
      "name": "python3",
      "display_name": "Python 3"
    }
  },
  "cells": [
    {
      "cell_type": "markdown",
      "metadata": {
        "id": "view-in-github",
        "colab_type": "text"
      },
      "source": [
        "<a href=\"https://colab.research.google.com/github/dajuctech/Deep_Learning_Course/blob/main/Week%201%20DL%201/IrisDnn.ipynb\" target=\"_parent\"><img src=\"https://colab.research.google.com/assets/colab-badge.svg\" alt=\"Open In Colab\"/></a>"
      ]
    },
    {
      "cell_type": "markdown",
      "metadata": {
        "id": "UiXM_QnXgGgH"
      },
      "source": [
        "#Feed Forward DNN for the Iris Dataset"
      ]
    },
    {
      "cell_type": "markdown",
      "metadata": {
        "id": "HdFwU3T1gTQo"
      },
      "source": [
        "Load the Iris Dataset"
      ]
    },
    {
      "cell_type": "code",
      "metadata": {
        "id": "A3jOpq8efmdo",
        "colab": {
          "base_uri": "https://localhost:8080/",
          "height": 423
        },
        "outputId": "8a534a0d-3137-4345-f991-ef2d9cf386df"
      },
      "source": [
        "import pandas as pd   # import the pandas library for data exploration\n",
        "from sklearn.datasets import load_iris    # load the iris dataset from the Sci kit learn library\n",
        "\n",
        "data = load_iris()\n",
        "df = pd.DataFrame(data.data, columns=data.feature_names)\n",
        "df"
      ],
      "execution_count": 1,
      "outputs": [
        {
          "output_type": "execute_result",
          "data": {
            "text/plain": [
              "     sepal length (cm)  sepal width (cm)  petal length (cm)  petal width (cm)\n",
              "0                  5.1               3.5                1.4               0.2\n",
              "1                  4.9               3.0                1.4               0.2\n",
              "2                  4.7               3.2                1.3               0.2\n",
              "3                  4.6               3.1                1.5               0.2\n",
              "4                  5.0               3.6                1.4               0.2\n",
              "..                 ...               ...                ...               ...\n",
              "145                6.7               3.0                5.2               2.3\n",
              "146                6.3               2.5                5.0               1.9\n",
              "147                6.5               3.0                5.2               2.0\n",
              "148                6.2               3.4                5.4               2.3\n",
              "149                5.9               3.0                5.1               1.8\n",
              "\n",
              "[150 rows x 4 columns]"
            ],
            "text/html": [
              "\n",
              "  <div id=\"df-d3f722da-a5ec-4218-8a27-a1f93c49d94f\" class=\"colab-df-container\">\n",
              "    <div>\n",
              "<style scoped>\n",
              "    .dataframe tbody tr th:only-of-type {\n",
              "        vertical-align: middle;\n",
              "    }\n",
              "\n",
              "    .dataframe tbody tr th {\n",
              "        vertical-align: top;\n",
              "    }\n",
              "\n",
              "    .dataframe thead th {\n",
              "        text-align: right;\n",
              "    }\n",
              "</style>\n",
              "<table border=\"1\" class=\"dataframe\">\n",
              "  <thead>\n",
              "    <tr style=\"text-align: right;\">\n",
              "      <th></th>\n",
              "      <th>sepal length (cm)</th>\n",
              "      <th>sepal width (cm)</th>\n",
              "      <th>petal length (cm)</th>\n",
              "      <th>petal width (cm)</th>\n",
              "    </tr>\n",
              "  </thead>\n",
              "  <tbody>\n",
              "    <tr>\n",
              "      <th>0</th>\n",
              "      <td>5.1</td>\n",
              "      <td>3.5</td>\n",
              "      <td>1.4</td>\n",
              "      <td>0.2</td>\n",
              "    </tr>\n",
              "    <tr>\n",
              "      <th>1</th>\n",
              "      <td>4.9</td>\n",
              "      <td>3.0</td>\n",
              "      <td>1.4</td>\n",
              "      <td>0.2</td>\n",
              "    </tr>\n",
              "    <tr>\n",
              "      <th>2</th>\n",
              "      <td>4.7</td>\n",
              "      <td>3.2</td>\n",
              "      <td>1.3</td>\n",
              "      <td>0.2</td>\n",
              "    </tr>\n",
              "    <tr>\n",
              "      <th>3</th>\n",
              "      <td>4.6</td>\n",
              "      <td>3.1</td>\n",
              "      <td>1.5</td>\n",
              "      <td>0.2</td>\n",
              "    </tr>\n",
              "    <tr>\n",
              "      <th>4</th>\n",
              "      <td>5.0</td>\n",
              "      <td>3.6</td>\n",
              "      <td>1.4</td>\n",
              "      <td>0.2</td>\n",
              "    </tr>\n",
              "    <tr>\n",
              "      <th>...</th>\n",
              "      <td>...</td>\n",
              "      <td>...</td>\n",
              "      <td>...</td>\n",
              "      <td>...</td>\n",
              "    </tr>\n",
              "    <tr>\n",
              "      <th>145</th>\n",
              "      <td>6.7</td>\n",
              "      <td>3.0</td>\n",
              "      <td>5.2</td>\n",
              "      <td>2.3</td>\n",
              "    </tr>\n",
              "    <tr>\n",
              "      <th>146</th>\n",
              "      <td>6.3</td>\n",
              "      <td>2.5</td>\n",
              "      <td>5.0</td>\n",
              "      <td>1.9</td>\n",
              "    </tr>\n",
              "    <tr>\n",
              "      <th>147</th>\n",
              "      <td>6.5</td>\n",
              "      <td>3.0</td>\n",
              "      <td>5.2</td>\n",
              "      <td>2.0</td>\n",
              "    </tr>\n",
              "    <tr>\n",
              "      <th>148</th>\n",
              "      <td>6.2</td>\n",
              "      <td>3.4</td>\n",
              "      <td>5.4</td>\n",
              "      <td>2.3</td>\n",
              "    </tr>\n",
              "    <tr>\n",
              "      <th>149</th>\n",
              "      <td>5.9</td>\n",
              "      <td>3.0</td>\n",
              "      <td>5.1</td>\n",
              "      <td>1.8</td>\n",
              "    </tr>\n",
              "  </tbody>\n",
              "</table>\n",
              "<p>150 rows × 4 columns</p>\n",
              "</div>\n",
              "    <div class=\"colab-df-buttons\">\n",
              "\n",
              "  <div class=\"colab-df-container\">\n",
              "    <button class=\"colab-df-convert\" onclick=\"convertToInteractive('df-d3f722da-a5ec-4218-8a27-a1f93c49d94f')\"\n",
              "            title=\"Convert this dataframe to an interactive table.\"\n",
              "            style=\"display:none;\">\n",
              "\n",
              "  <svg xmlns=\"http://www.w3.org/2000/svg\" height=\"24px\" viewBox=\"0 -960 960 960\">\n",
              "    <path d=\"M120-120v-720h720v720H120Zm60-500h600v-160H180v160Zm220 220h160v-160H400v160Zm0 220h160v-160H400v160ZM180-400h160v-160H180v160Zm440 0h160v-160H620v160ZM180-180h160v-160H180v160Zm440 0h160v-160H620v160Z\"/>\n",
              "  </svg>\n",
              "    </button>\n",
              "\n",
              "  <style>\n",
              "    .colab-df-container {\n",
              "      display:flex;\n",
              "      gap: 12px;\n",
              "    }\n",
              "\n",
              "    .colab-df-convert {\n",
              "      background-color: #E8F0FE;\n",
              "      border: none;\n",
              "      border-radius: 50%;\n",
              "      cursor: pointer;\n",
              "      display: none;\n",
              "      fill: #1967D2;\n",
              "      height: 32px;\n",
              "      padding: 0 0 0 0;\n",
              "      width: 32px;\n",
              "    }\n",
              "\n",
              "    .colab-df-convert:hover {\n",
              "      background-color: #E2EBFA;\n",
              "      box-shadow: 0px 1px 2px rgba(60, 64, 67, 0.3), 0px 1px 3px 1px rgba(60, 64, 67, 0.15);\n",
              "      fill: #174EA6;\n",
              "    }\n",
              "\n",
              "    .colab-df-buttons div {\n",
              "      margin-bottom: 4px;\n",
              "    }\n",
              "\n",
              "    [theme=dark] .colab-df-convert {\n",
              "      background-color: #3B4455;\n",
              "      fill: #D2E3FC;\n",
              "    }\n",
              "\n",
              "    [theme=dark] .colab-df-convert:hover {\n",
              "      background-color: #434B5C;\n",
              "      box-shadow: 0px 1px 3px 1px rgba(0, 0, 0, 0.15);\n",
              "      filter: drop-shadow(0px 1px 2px rgba(0, 0, 0, 0.3));\n",
              "      fill: #FFFFFF;\n",
              "    }\n",
              "  </style>\n",
              "\n",
              "    <script>\n",
              "      const buttonEl =\n",
              "        document.querySelector('#df-d3f722da-a5ec-4218-8a27-a1f93c49d94f button.colab-df-convert');\n",
              "      buttonEl.style.display =\n",
              "        google.colab.kernel.accessAllowed ? 'block' : 'none';\n",
              "\n",
              "      async function convertToInteractive(key) {\n",
              "        const element = document.querySelector('#df-d3f722da-a5ec-4218-8a27-a1f93c49d94f');\n",
              "        const dataTable =\n",
              "          await google.colab.kernel.invokeFunction('convertToInteractive',\n",
              "                                                    [key], {});\n",
              "        if (!dataTable) return;\n",
              "\n",
              "        const docLinkHtml = 'Like what you see? Visit the ' +\n",
              "          '<a target=\"_blank\" href=https://colab.research.google.com/notebooks/data_table.ipynb>data table notebook</a>'\n",
              "          + ' to learn more about interactive tables.';\n",
              "        element.innerHTML = '';\n",
              "        dataTable['output_type'] = 'display_data';\n",
              "        await google.colab.output.renderOutput(dataTable, element);\n",
              "        const docLink = document.createElement('div');\n",
              "        docLink.innerHTML = docLinkHtml;\n",
              "        element.appendChild(docLink);\n",
              "      }\n",
              "    </script>\n",
              "  </div>\n",
              "\n",
              "\n",
              "<div id=\"df-42cfc1c4-ddb2-4994-bd80-98fb7c4693d3\">\n",
              "  <button class=\"colab-df-quickchart\" onclick=\"quickchart('df-42cfc1c4-ddb2-4994-bd80-98fb7c4693d3')\"\n",
              "            title=\"Suggest charts\"\n",
              "            style=\"display:none;\">\n",
              "\n",
              "<svg xmlns=\"http://www.w3.org/2000/svg\" height=\"24px\"viewBox=\"0 0 24 24\"\n",
              "     width=\"24px\">\n",
              "    <g>\n",
              "        <path d=\"M19 3H5c-1.1 0-2 .9-2 2v14c0 1.1.9 2 2 2h14c1.1 0 2-.9 2-2V5c0-1.1-.9-2-2-2zM9 17H7v-7h2v7zm4 0h-2V7h2v10zm4 0h-2v-4h2v4z\"/>\n",
              "    </g>\n",
              "</svg>\n",
              "  </button>\n",
              "\n",
              "<style>\n",
              "  .colab-df-quickchart {\n",
              "      --bg-color: #E8F0FE;\n",
              "      --fill-color: #1967D2;\n",
              "      --hover-bg-color: #E2EBFA;\n",
              "      --hover-fill-color: #174EA6;\n",
              "      --disabled-fill-color: #AAA;\n",
              "      --disabled-bg-color: #DDD;\n",
              "  }\n",
              "\n",
              "  [theme=dark] .colab-df-quickchart {\n",
              "      --bg-color: #3B4455;\n",
              "      --fill-color: #D2E3FC;\n",
              "      --hover-bg-color: #434B5C;\n",
              "      --hover-fill-color: #FFFFFF;\n",
              "      --disabled-bg-color: #3B4455;\n",
              "      --disabled-fill-color: #666;\n",
              "  }\n",
              "\n",
              "  .colab-df-quickchart {\n",
              "    background-color: var(--bg-color);\n",
              "    border: none;\n",
              "    border-radius: 50%;\n",
              "    cursor: pointer;\n",
              "    display: none;\n",
              "    fill: var(--fill-color);\n",
              "    height: 32px;\n",
              "    padding: 0;\n",
              "    width: 32px;\n",
              "  }\n",
              "\n",
              "  .colab-df-quickchart:hover {\n",
              "    background-color: var(--hover-bg-color);\n",
              "    box-shadow: 0 1px 2px rgba(60, 64, 67, 0.3), 0 1px 3px 1px rgba(60, 64, 67, 0.15);\n",
              "    fill: var(--button-hover-fill-color);\n",
              "  }\n",
              "\n",
              "  .colab-df-quickchart-complete:disabled,\n",
              "  .colab-df-quickchart-complete:disabled:hover {\n",
              "    background-color: var(--disabled-bg-color);\n",
              "    fill: var(--disabled-fill-color);\n",
              "    box-shadow: none;\n",
              "  }\n",
              "\n",
              "  .colab-df-spinner {\n",
              "    border: 2px solid var(--fill-color);\n",
              "    border-color: transparent;\n",
              "    border-bottom-color: var(--fill-color);\n",
              "    animation:\n",
              "      spin 1s steps(1) infinite;\n",
              "  }\n",
              "\n",
              "  @keyframes spin {\n",
              "    0% {\n",
              "      border-color: transparent;\n",
              "      border-bottom-color: var(--fill-color);\n",
              "      border-left-color: var(--fill-color);\n",
              "    }\n",
              "    20% {\n",
              "      border-color: transparent;\n",
              "      border-left-color: var(--fill-color);\n",
              "      border-top-color: var(--fill-color);\n",
              "    }\n",
              "    30% {\n",
              "      border-color: transparent;\n",
              "      border-left-color: var(--fill-color);\n",
              "      border-top-color: var(--fill-color);\n",
              "      border-right-color: var(--fill-color);\n",
              "    }\n",
              "    40% {\n",
              "      border-color: transparent;\n",
              "      border-right-color: var(--fill-color);\n",
              "      border-top-color: var(--fill-color);\n",
              "    }\n",
              "    60% {\n",
              "      border-color: transparent;\n",
              "      border-right-color: var(--fill-color);\n",
              "    }\n",
              "    80% {\n",
              "      border-color: transparent;\n",
              "      border-right-color: var(--fill-color);\n",
              "      border-bottom-color: var(--fill-color);\n",
              "    }\n",
              "    90% {\n",
              "      border-color: transparent;\n",
              "      border-bottom-color: var(--fill-color);\n",
              "    }\n",
              "  }\n",
              "</style>\n",
              "\n",
              "  <script>\n",
              "    async function quickchart(key) {\n",
              "      const quickchartButtonEl =\n",
              "        document.querySelector('#' + key + ' button');\n",
              "      quickchartButtonEl.disabled = true;  // To prevent multiple clicks.\n",
              "      quickchartButtonEl.classList.add('colab-df-spinner');\n",
              "      try {\n",
              "        const charts = await google.colab.kernel.invokeFunction(\n",
              "            'suggestCharts', [key], {});\n",
              "      } catch (error) {\n",
              "        console.error('Error during call to suggestCharts:', error);\n",
              "      }\n",
              "      quickchartButtonEl.classList.remove('colab-df-spinner');\n",
              "      quickchartButtonEl.classList.add('colab-df-quickchart-complete');\n",
              "    }\n",
              "    (() => {\n",
              "      let quickchartButtonEl =\n",
              "        document.querySelector('#df-42cfc1c4-ddb2-4994-bd80-98fb7c4693d3 button');\n",
              "      quickchartButtonEl.style.display =\n",
              "        google.colab.kernel.accessAllowed ? 'block' : 'none';\n",
              "    })();\n",
              "  </script>\n",
              "</div>\n",
              "\n",
              "  <div id=\"id_a90b220d-85a9-40be-8ed2-7252609b9b90\">\n",
              "    <style>\n",
              "      .colab-df-generate {\n",
              "        background-color: #E8F0FE;\n",
              "        border: none;\n",
              "        border-radius: 50%;\n",
              "        cursor: pointer;\n",
              "        display: none;\n",
              "        fill: #1967D2;\n",
              "        height: 32px;\n",
              "        padding: 0 0 0 0;\n",
              "        width: 32px;\n",
              "      }\n",
              "\n",
              "      .colab-df-generate:hover {\n",
              "        background-color: #E2EBFA;\n",
              "        box-shadow: 0px 1px 2px rgba(60, 64, 67, 0.3), 0px 1px 3px 1px rgba(60, 64, 67, 0.15);\n",
              "        fill: #174EA6;\n",
              "      }\n",
              "\n",
              "      [theme=dark] .colab-df-generate {\n",
              "        background-color: #3B4455;\n",
              "        fill: #D2E3FC;\n",
              "      }\n",
              "\n",
              "      [theme=dark] .colab-df-generate:hover {\n",
              "        background-color: #434B5C;\n",
              "        box-shadow: 0px 1px 3px 1px rgba(0, 0, 0, 0.15);\n",
              "        filter: drop-shadow(0px 1px 2px rgba(0, 0, 0, 0.3));\n",
              "        fill: #FFFFFF;\n",
              "      }\n",
              "    </style>\n",
              "    <button class=\"colab-df-generate\" onclick=\"generateWithVariable('df')\"\n",
              "            title=\"Generate code using this dataframe.\"\n",
              "            style=\"display:none;\">\n",
              "\n",
              "  <svg xmlns=\"http://www.w3.org/2000/svg\" height=\"24px\"viewBox=\"0 0 24 24\"\n",
              "       width=\"24px\">\n",
              "    <path d=\"M7,19H8.4L18.45,9,17,7.55,7,17.6ZM5,21V16.75L18.45,3.32a2,2,0,0,1,2.83,0l1.4,1.43a1.91,1.91,0,0,1,.58,1.4,1.91,1.91,0,0,1-.58,1.4L9.25,21ZM18.45,9,17,7.55Zm-12,3A5.31,5.31,0,0,0,4.9,8.1,5.31,5.31,0,0,0,1,6.5,5.31,5.31,0,0,0,4.9,4.9,5.31,5.31,0,0,0,6.5,1,5.31,5.31,0,0,0,8.1,4.9,5.31,5.31,0,0,0,12,6.5,5.46,5.46,0,0,0,6.5,12Z\"/>\n",
              "  </svg>\n",
              "    </button>\n",
              "    <script>\n",
              "      (() => {\n",
              "      const buttonEl =\n",
              "        document.querySelector('#id_a90b220d-85a9-40be-8ed2-7252609b9b90 button.colab-df-generate');\n",
              "      buttonEl.style.display =\n",
              "        google.colab.kernel.accessAllowed ? 'block' : 'none';\n",
              "\n",
              "      buttonEl.onclick = () => {\n",
              "        google.colab.notebook.generateWithVariable('df');\n",
              "      }\n",
              "      })();\n",
              "    </script>\n",
              "  </div>\n",
              "\n",
              "    </div>\n",
              "  </div>\n"
            ],
            "application/vnd.google.colaboratory.intrinsic+json": {
              "type": "dataframe",
              "variable_name": "df",
              "summary": "{\n  \"name\": \"df\",\n  \"rows\": 150,\n  \"fields\": [\n    {\n      \"column\": \"sepal length (cm)\",\n      \"properties\": {\n        \"dtype\": \"number\",\n        \"std\": 0.8280661279778629,\n        \"min\": 4.3,\n        \"max\": 7.9,\n        \"num_unique_values\": 35,\n        \"samples\": [\n          6.2,\n          4.5,\n          5.6\n        ],\n        \"semantic_type\": \"\",\n        \"description\": \"\"\n      }\n    },\n    {\n      \"column\": \"sepal width (cm)\",\n      \"properties\": {\n        \"dtype\": \"number\",\n        \"std\": 0.435866284936698,\n        \"min\": 2.0,\n        \"max\": 4.4,\n        \"num_unique_values\": 23,\n        \"samples\": [\n          2.3,\n          4.0,\n          3.5\n        ],\n        \"semantic_type\": \"\",\n        \"description\": \"\"\n      }\n    },\n    {\n      \"column\": \"petal length (cm)\",\n      \"properties\": {\n        \"dtype\": \"number\",\n        \"std\": 1.7652982332594667,\n        \"min\": 1.0,\n        \"max\": 6.9,\n        \"num_unique_values\": 43,\n        \"samples\": [\n          6.7,\n          3.8,\n          3.7\n        ],\n        \"semantic_type\": \"\",\n        \"description\": \"\"\n      }\n    },\n    {\n      \"column\": \"petal width (cm)\",\n      \"properties\": {\n        \"dtype\": \"number\",\n        \"std\": 0.7622376689603465,\n        \"min\": 0.1,\n        \"max\": 2.5,\n        \"num_unique_values\": 22,\n        \"samples\": [\n          0.2,\n          1.2,\n          1.3\n        ],\n        \"semantic_type\": \"\",\n        \"description\": \"\"\n      }\n    }\n  ]\n}"
            }
          },
          "metadata": {},
          "execution_count": 1
        }
      ]
    },
    {
      "cell_type": "markdown",
      "metadata": {
        "id": "EizkVBrihD6u"
      },
      "source": [
        "Data Setup"
      ]
    },
    {
      "cell_type": "code",
      "metadata": {
        "id": "FB-P3g5AhTWR",
        "colab": {
          "base_uri": "https://localhost:8080/"
        },
        "outputId": "f801c15e-28c8-41f7-d36c-713482da6e16"
      },
      "source": [
        "# Normalise the data\n",
        "from sklearn.preprocessing import normalize\n",
        "df_norm = normalize(df)\n",
        "df_norm[:10]"
      ],
      "execution_count": 5,
      "outputs": [
        {
          "output_type": "execute_result",
          "data": {
            "text/plain": [
              "array([[0.80377277, 0.55160877, 0.22064351, 0.0315205 ],\n",
              "       [0.82813287, 0.50702013, 0.23660939, 0.03380134],\n",
              "       [0.80533308, 0.54831188, 0.2227517 , 0.03426949],\n",
              "       [0.80003025, 0.53915082, 0.26087943, 0.03478392],\n",
              "       [0.790965  , 0.5694948 , 0.2214702 , 0.0316386 ],\n",
              "       [0.78417499, 0.5663486 , 0.2468699 , 0.05808704],\n",
              "       [0.78010936, 0.57660257, 0.23742459, 0.0508767 ],\n",
              "       [0.80218492, 0.54548574, 0.24065548, 0.0320874 ],\n",
              "       [0.80642366, 0.5315065 , 0.25658935, 0.03665562],\n",
              "       [0.81803119, 0.51752994, 0.25041771, 0.01669451]])"
            ]
          },
          "metadata": {},
          "execution_count": 5
        }
      ]
    },
    {
      "cell_type": "markdown",
      "source": [
        "Normalization is done to ensure all features have equal influence on the model's learning process by scaling them to a similar range, usually between 0 and 1. This helps avoid features with larger values dominating and potentially leading to slower training and suboptimal results."
      ],
      "metadata": {
        "id": "oZlxbXJxx3ev"
      }
    },
    {
      "cell_type": "code",
      "metadata": {
        "id": "OWRiWZh5hoLU"
      },
      "source": [
        "# split the data into train and test\n",
        "from sklearn.model_selection import train_test_split\n",
        "x_train, x_test, y_train, y_test = train_test_split(df_norm, data.target, random_state=0)  # random_state controls the shuffling applied to the data before the split"
      ],
      "execution_count": 3,
      "outputs": []
    },
    {
      "cell_type": "code",
      "metadata": {
        "id": "R1qEDVVziKcU",
        "colab": {
          "base_uri": "https://localhost:8080/"
        },
        "outputId": "f16cc8a7-76fd-4d35-f303-224c7127caa3"
      },
      "source": [
        "# one hot encode the training data\n",
        "from tensorflow.keras import utils\n",
        "y_train_cat = utils.to_categorical(y_train)\n",
        "y_train_cat[:10]"
      ],
      "execution_count": 8,
      "outputs": [
        {
          "output_type": "execute_result",
          "data": {
            "text/plain": [
              "array([[0., 1., 0.],\n",
              "       [0., 1., 0.],\n",
              "       [0., 0., 1.],\n",
              "       [1., 0., 0.],\n",
              "       [0., 0., 1.],\n",
              "       [1., 0., 0.],\n",
              "       [1., 0., 0.],\n",
              "       [0., 1., 0.],\n",
              "       [0., 0., 1.],\n",
              "       [0., 0., 1.]])"
            ]
          },
          "metadata": {},
          "execution_count": 8
        }
      ]
    },
    {
      "cell_type": "markdown",
      "source": [
        "One-hot encoding transforms the target variable (species of Iris in this case) into a format that's easier for the neural network to understand. It converts categorical labels (like 'setosa', 'versicolor', 'virginica') into numerical representations where each category is represented by a binary vector with a single '1' indicating the presence of that category."
      ],
      "metadata": {
        "id": "1MLvJuT1yimB"
      }
    },
    {
      "cell_type": "code",
      "metadata": {
        "id": "HyrFiclEinQe",
        "colab": {
          "base_uri": "https://localhost:8080/"
        },
        "outputId": "2898a468-446d-4357-d734-af7af2c5a1d5"
      },
      "source": [
        "y_test_cat = utils.to_categorical(y_test)\n",
        "y_test_cat[:10]"
      ],
      "execution_count": 9,
      "outputs": [
        {
          "output_type": "execute_result",
          "data": {
            "text/plain": [
              "array([[0., 0., 1.],\n",
              "       [0., 1., 0.],\n",
              "       [1., 0., 0.],\n",
              "       [0., 0., 1.],\n",
              "       [1., 0., 0.],\n",
              "       [0., 0., 1.],\n",
              "       [1., 0., 0.],\n",
              "       [0., 1., 0.],\n",
              "       [0., 1., 0.],\n",
              "       [0., 1., 0.]])"
            ]
          },
          "metadata": {},
          "execution_count": 9
        }
      ]
    },
    {
      "cell_type": "markdown",
      "metadata": {
        "id": "cSpxuBMtik_9"
      },
      "source": [
        "![Irisdnn.jpg](data:image/jpeg;base64,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)"
      ]
    },
    {
      "cell_type": "code",
      "source": [
        "df.columns"
      ],
      "metadata": {
        "id": "cvBJUjV92nFz",
        "outputId": "ce6d0771-c0ce-4bfa-adb2-251c5636cb92",
        "colab": {
          "base_uri": "https://localhost:8080/"
        }
      },
      "execution_count": 13,
      "outputs": [
        {
          "output_type": "execute_result",
          "data": {
            "text/plain": [
              "Index(['sepal length (cm)', 'sepal width (cm)', 'petal length (cm)',\n",
              "       'petal width (cm)'],\n",
              "      dtype='object')"
            ]
          },
          "metadata": {},
          "execution_count": 13
        }
      ]
    },
    {
      "cell_type": "markdown",
      "metadata": {
        "id": "wSLJ6IG2OKV0"
      },
      "source": [
        "Create the model"
      ]
    },
    {
      "cell_type": "code",
      "metadata": {
        "id": "hqR_ukbNkYl2",
        "outputId": "f9f7dea9-e84d-4dae-f359-b3baaa8676a3",
        "colab": {
          "base_uri": "https://localhost:8080/"
        }
      },
      "source": [
        "# Create the neural network (replace the question marks)\n",
        "from tensorflow.keras.models import Sequential\n",
        "from tensorflow.keras.layers import Dense\n",
        "\n",
        "model = Sequential()  # creates an empty model we can add layers to\n",
        "model.add(Dense(units=5, input_dim=4, activation='relu'))  # input layer and first layer combined\n",
        "model.add(Dense(units=3, activation='softmax'))   # output layer"
      ],
      "execution_count": 10,
      "outputs": [
        {
          "output_type": "stream",
          "name": "stderr",
          "text": [
            "/usr/local/lib/python3.11/dist-packages/keras/src/layers/core/dense.py:87: UserWarning: Do not pass an `input_shape`/`input_dim` argument to a layer. When using Sequential models, prefer using an `Input(shape)` object as the first layer in the model instead.\n",
            "  super().__init__(activity_regularizer=activity_regularizer, **kwargs)\n"
          ]
        }
      ]
    },
    {
      "cell_type": "markdown",
      "source": [
        "This is talking about the number of weights and biases within your neural network that can be adjusted during the training process.\n",
        "\n",
        "These parameters are what the network learns to optimize in order to make accurate predictions.\n",
        "\n",
        "To answer this for based on the specific network:\n",
        "\n",
        "We need to understand the structure: We have two Dense layers.\n",
        "\n",
        "Calculate parameters for each layer:\n",
        "* Layer 1: (4 inputs * 5 units) + 5 biases = 25 parameters\n",
        "* Layer 2: (5 inputs * 3 units) + 3 biases = 18 parameters\n",
        "\n",
        "* Add the parameters from all layers: 25 + 18 = 43\n",
        "\n",
        "* Answer: This network has 43 trainable parameters.\n",
        "\n",
        "In simple terms: Each connection between neurons has a weight, and each neuron has a bias. These are the \"trainable parameters\" that the network adjusts to learn. By counting them, you get the total number.\n",
        "\n",
        "| Activation Function | When to Use |\n",
        "|---|---|\n",
        "| `relu` | Hidden layers in most cases. Introduces non-linearity for learning complex patterns, and generally performs well. |\n",
        "| `sigmoid` | Binary classification output layer. Outputs a probability between 0 and 1. |\n",
        "| `softmax` | Multi-class classification output layer. Outputs probabilities for each class, summing to 1. |\n",
        "| `tanh` | Sometimes used in hidden layers, similar to `relu` but outputs between -1 and 1. |\n",
        "| `linear` | Regression output layer. For predicting continuous values. |"
      ],
      "metadata": {
        "id": "weWfnHtOz7tR"
      }
    },
    {
      "cell_type": "code",
      "metadata": {
        "id": "PqalM3UVlK2O",
        "colab": {
          "base_uri": "https://localhost:8080/",
          "height": 200
        },
        "outputId": "637eeb6c-45ad-425e-d812-c0ee595a217e"
      },
      "source": [
        "model.summary()"
      ],
      "execution_count": 16,
      "outputs": [
        {
          "output_type": "display_data",
          "data": {
            "text/plain": [
              "\u001b[1mModel: \"sequential\"\u001b[0m\n"
            ],
            "text/html": [
              "<pre style=\"white-space:pre;overflow-x:auto;line-height:normal;font-family:Menlo,'DejaVu Sans Mono',consolas,'Courier New',monospace\"><span style=\"font-weight: bold\">Model: \"sequential\"</span>\n",
              "</pre>\n"
            ]
          },
          "metadata": {}
        },
        {
          "output_type": "display_data",
          "data": {
            "text/plain": [
              "┏━━━━━━━━━━━━━━━━━━━━━━━━━━━━━━━━━━━━━━┳━━━━━━━━━━━━━━━━━━━━━━━━━━━━━┳━━━━━━━━━━━━━━━━━┓\n",
              "┃\u001b[1m \u001b[0m\u001b[1mLayer (type)                        \u001b[0m\u001b[1m \u001b[0m┃\u001b[1m \u001b[0m\u001b[1mOutput Shape               \u001b[0m\u001b[1m \u001b[0m┃\u001b[1m \u001b[0m\u001b[1m        Param #\u001b[0m\u001b[1m \u001b[0m┃\n",
              "┡━━━━━━━━━━━━━━━━━━━━━━━━━━━━━━━━━━━━━━╇━━━━━━━━━━━━━━━━━━━━━━━━━━━━━╇━━━━━━━━━━━━━━━━━┩\n",
              "│ dense (\u001b[38;5;33mDense\u001b[0m)                        │ (\u001b[38;5;45mNone\u001b[0m, \u001b[38;5;34m5\u001b[0m)                   │              \u001b[38;5;34m25\u001b[0m │\n",
              "├──────────────────────────────────────┼─────────────────────────────┼─────────────────┤\n",
              "│ dense_1 (\u001b[38;5;33mDense\u001b[0m)                      │ (\u001b[38;5;45mNone\u001b[0m, \u001b[38;5;34m3\u001b[0m)                   │              \u001b[38;5;34m18\u001b[0m │\n",
              "└──────────────────────────────────────┴─────────────────────────────┴─────────────────┘\n"
            ],
            "text/html": [
              "<pre style=\"white-space:pre;overflow-x:auto;line-height:normal;font-family:Menlo,'DejaVu Sans Mono',consolas,'Courier New',monospace\">┏━━━━━━━━━━━━━━━━━━━━━━━━━━━━━━━━━━━━━━┳━━━━━━━━━━━━━━━━━━━━━━━━━━━━━┳━━━━━━━━━━━━━━━━━┓\n",
              "┃<span style=\"font-weight: bold\"> Layer (type)                         </span>┃<span style=\"font-weight: bold\"> Output Shape                </span>┃<span style=\"font-weight: bold\">         Param # </span>┃\n",
              "┡━━━━━━━━━━━━━━━━━━━━━━━━━━━━━━━━━━━━━━╇━━━━━━━━━━━━━━━━━━━━━━━━━━━━━╇━━━━━━━━━━━━━━━━━┩\n",
              "│ dense (<span style=\"color: #0087ff; text-decoration-color: #0087ff\">Dense</span>)                        │ (<span style=\"color: #00d7ff; text-decoration-color: #00d7ff\">None</span>, <span style=\"color: #00af00; text-decoration-color: #00af00\">5</span>)                   │              <span style=\"color: #00af00; text-decoration-color: #00af00\">25</span> │\n",
              "├──────────────────────────────────────┼─────────────────────────────┼─────────────────┤\n",
              "│ dense_1 (<span style=\"color: #0087ff; text-decoration-color: #0087ff\">Dense</span>)                      │ (<span style=\"color: #00d7ff; text-decoration-color: #00d7ff\">None</span>, <span style=\"color: #00af00; text-decoration-color: #00af00\">3</span>)                   │              <span style=\"color: #00af00; text-decoration-color: #00af00\">18</span> │\n",
              "└──────────────────────────────────────┴─────────────────────────────┴─────────────────┘\n",
              "</pre>\n"
            ]
          },
          "metadata": {}
        },
        {
          "output_type": "display_data",
          "data": {
            "text/plain": [
              "\u001b[1m Total params: \u001b[0m\u001b[38;5;34m43\u001b[0m (172.00 B)\n"
            ],
            "text/html": [
              "<pre style=\"white-space:pre;overflow-x:auto;line-height:normal;font-family:Menlo,'DejaVu Sans Mono',consolas,'Courier New',monospace\"><span style=\"font-weight: bold\"> Total params: </span><span style=\"color: #00af00; text-decoration-color: #00af00\">43</span> (172.00 B)\n",
              "</pre>\n"
            ]
          },
          "metadata": {}
        },
        {
          "output_type": "display_data",
          "data": {
            "text/plain": [
              "\u001b[1m Trainable params: \u001b[0m\u001b[38;5;34m43\u001b[0m (172.00 B)\n"
            ],
            "text/html": [
              "<pre style=\"white-space:pre;overflow-x:auto;line-height:normal;font-family:Menlo,'DejaVu Sans Mono',consolas,'Courier New',monospace\"><span style=\"font-weight: bold\"> Trainable params: </span><span style=\"color: #00af00; text-decoration-color: #00af00\">43</span> (172.00 B)\n",
              "</pre>\n"
            ]
          },
          "metadata": {}
        },
        {
          "output_type": "display_data",
          "data": {
            "text/plain": [
              "\u001b[1m Non-trainable params: \u001b[0m\u001b[38;5;34m0\u001b[0m (0.00 B)\n"
            ],
            "text/html": [
              "<pre style=\"white-space:pre;overflow-x:auto;line-height:normal;font-family:Menlo,'DejaVu Sans Mono',consolas,'Courier New',monospace\"><span style=\"font-weight: bold\"> Non-trainable params: </span><span style=\"color: #00af00; text-decoration-color: #00af00\">0</span> (0.00 B)\n",
              "</pre>\n"
            ]
          },
          "metadata": {}
        }
      ]
    },
    {
      "cell_type": "markdown",
      "metadata": {
        "id": "H4zf4-E9PlF4"
      },
      "source": [
        "How many trainable parameters does this network have?\n",
        "\n",
        "We have 43 trainable paramters"
      ]
    },
    {
      "cell_type": "markdown",
      "metadata": {
        "id": "da94_WAokXMv"
      },
      "source": [
        "Compile the model"
      ]
    },
    {
      "cell_type": "code",
      "metadata": {
        "id": "q8ATzVsAmMBO"
      },
      "source": [
        "# 1. Compile the model (replace the question marks)\n",
        "model.compile(loss='categorical_crossentropy', optimizer='adam', metrics=['accuracy'])"
      ],
      "execution_count": 12,
      "outputs": []
    },
    {
      "cell_type": "markdown",
      "source": [
        "* loss='categorical_crossentropy': Because we're doing multi-class classification with one-hot encoded targets (like predicting Iris species). This loss function is suitable for such problems.\n",
        "\n",
        "* optimizer='adam': Adam is an efficient algorithm for adjusting the model's settings to reduce errors.\n",
        "\n",
        "* metrics=['accuracy']: To measure how well the model is performing by tracking the percentage of correct predictions.\n",
        "\n",
        "* Compilation essentially configures the model for training. It sets up the necessary components for the model to learn, using the specified loss function, optimizer, and metrics. Without compilation, the model wouldn't know how to update its parameters during training.\n",
        "\n",
        "In essence, it's like setting the rules and goals for the model before the actual learning process begins."
      ],
      "metadata": {
        "id": "u35G6rgw3MzB"
      }
    },
    {
      "cell_type": "markdown",
      "metadata": {
        "id": "19-qPsgWmjTx"
      },
      "source": [
        "Fit Model with Training Data Set"
      ]
    },
    {
      "cell_type": "code",
      "metadata": {
        "id": "9G7J9LJJmwal",
        "colab": {
          "base_uri": "https://localhost:8080/"
        },
        "outputId": "7a94ec07-b108-4b1e-c5b4-f9442adeee4b"
      },
      "source": [
        "# Fit the model (replace the question marks)\n",
        "history = model.fit(\n",
        "    x_train,    # input training data\n",
        "    y_train_cat,    # output training data\n",
        "    batch_size=10,   # mini-batch gradient descent size\n",
        "    epochs=125,       # number of iterations over the entire training data\n",
        "    verbose=1,        # what type of information is printed during training\n",
        "    validation_data=(x_test, y_test_cat))  # input test data, output test data"
      ],
      "execution_count": 17,
      "outputs": [
        {
          "output_type": "stream",
          "name": "stdout",
          "text": [
            "Epoch 1/125\n",
            "\u001b[1m12/12\u001b[0m \u001b[32m━━━━━━━━━━━━━━━━━━━━\u001b[0m\u001b[37m\u001b[0m \u001b[1m3s\u001b[0m 65ms/step - accuracy: 0.5269 - loss: 1.0557 - val_accuracy: 0.5789 - val_loss: 1.0606\n",
            "Epoch 2/125\n",
            "\u001b[1m12/12\u001b[0m \u001b[32m━━━━━━━━━━━━━━━━━━━━\u001b[0m\u001b[37m\u001b[0m \u001b[1m1s\u001b[0m 33ms/step - accuracy: 0.7406 - loss: 1.0336 - val_accuracy: 0.5789 - val_loss: 1.0513\n",
            "Epoch 3/125\n",
            "\u001b[1m12/12\u001b[0m \u001b[32m━━━━━━━━━━━━━━━━━━━━\u001b[0m\u001b[37m\u001b[0m \u001b[1m0s\u001b[0m 8ms/step - accuracy: 0.7284 - loss: 1.0216 - val_accuracy: 0.5789 - val_loss: 1.0448\n",
            "Epoch 4/125\n",
            "\u001b[1m12/12\u001b[0m \u001b[32m━━━━━━━━━━━━━━━━━━━━\u001b[0m\u001b[37m\u001b[0m \u001b[1m0s\u001b[0m 11ms/step - accuracy: 0.7244 - loss: 1.0177 - val_accuracy: 0.5789 - val_loss: 1.0404\n",
            "Epoch 5/125\n",
            "\u001b[1m12/12\u001b[0m \u001b[32m━━━━━━━━━━━━━━━━━━━━\u001b[0m\u001b[37m\u001b[0m \u001b[1m0s\u001b[0m 8ms/step - accuracy: 0.7064 - loss: 1.0143 - val_accuracy: 0.5789 - val_loss: 1.0367\n",
            "Epoch 6/125\n",
            "\u001b[1m12/12\u001b[0m \u001b[32m━━━━━━━━━━━━━━━━━━━━\u001b[0m\u001b[37m\u001b[0m \u001b[1m0s\u001b[0m 7ms/step - accuracy: 0.7072 - loss: 0.9993 - val_accuracy: 0.5789 - val_loss: 1.0335\n",
            "Epoch 7/125\n",
            "\u001b[1m12/12\u001b[0m \u001b[32m━━━━━━━━━━━━━━━━━━━━\u001b[0m\u001b[37m\u001b[0m \u001b[1m0s\u001b[0m 8ms/step - accuracy: 0.6855 - loss: 0.9967 - val_accuracy: 0.5789 - val_loss: 1.0306\n",
            "Epoch 8/125\n",
            "\u001b[1m12/12\u001b[0m \u001b[32m━━━━━━━━━━━━━━━━━━━━\u001b[0m\u001b[37m\u001b[0m \u001b[1m0s\u001b[0m 8ms/step - accuracy: 0.6633 - loss: 1.0001 - val_accuracy: 0.5789 - val_loss: 1.0278\n",
            "Epoch 9/125\n",
            "\u001b[1m12/12\u001b[0m \u001b[32m━━━━━━━━━━━━━━━━━━━━\u001b[0m\u001b[37m\u001b[0m \u001b[1m0s\u001b[0m 8ms/step - accuracy: 0.7011 - loss: 0.9894 - val_accuracy: 0.5789 - val_loss: 1.0244\n",
            "Epoch 10/125\n",
            "\u001b[1m12/12\u001b[0m \u001b[32m━━━━━━━━━━━━━━━━━━━━\u001b[0m\u001b[37m\u001b[0m \u001b[1m0s\u001b[0m 8ms/step - accuracy: 0.6914 - loss: 0.9788 - val_accuracy: 0.5789 - val_loss: 1.0222\n",
            "Epoch 11/125\n",
            "\u001b[1m12/12\u001b[0m \u001b[32m━━━━━━━━━━━━━━━━━━━━\u001b[0m\u001b[37m\u001b[0m \u001b[1m0s\u001b[0m 8ms/step - accuracy: 0.6848 - loss: 0.9765 - val_accuracy: 0.5789 - val_loss: 1.0178\n",
            "Epoch 12/125\n",
            "\u001b[1m12/12\u001b[0m \u001b[32m━━━━━━━━━━━━━━━━━━━━\u001b[0m\u001b[37m\u001b[0m \u001b[1m0s\u001b[0m 7ms/step - accuracy: 0.7338 - loss: 0.9692 - val_accuracy: 0.5789 - val_loss: 1.0123\n",
            "Epoch 13/125\n",
            "\u001b[1m12/12\u001b[0m \u001b[32m━━━━━━━━━━━━━━━━━━━━\u001b[0m\u001b[37m\u001b[0m \u001b[1m0s\u001b[0m 8ms/step - accuracy: 0.7224 - loss: 0.9631 - val_accuracy: 0.5789 - val_loss: 1.0085\n",
            "Epoch 14/125\n",
            "\u001b[1m12/12\u001b[0m \u001b[32m━━━━━━━━━━━━━━━━━━━━\u001b[0m\u001b[37m\u001b[0m \u001b[1m0s\u001b[0m 8ms/step - accuracy: 0.6483 - loss: 0.9750 - val_accuracy: 0.5789 - val_loss: 1.0061\n",
            "Epoch 15/125\n",
            "\u001b[1m12/12\u001b[0m \u001b[32m━━━━━━━━━━━━━━━━━━━━\u001b[0m\u001b[37m\u001b[0m \u001b[1m0s\u001b[0m 8ms/step - accuracy: 0.6616 - loss: 0.9685 - val_accuracy: 0.5789 - val_loss: 1.0038\n",
            "Epoch 16/125\n",
            "\u001b[1m12/12\u001b[0m \u001b[32m━━━━━━━━━━━━━━━━━━━━\u001b[0m\u001b[37m\u001b[0m \u001b[1m0s\u001b[0m 8ms/step - accuracy: 0.6579 - loss: 0.9624 - val_accuracy: 0.5789 - val_loss: 1.0013\n",
            "Epoch 17/125\n",
            "\u001b[1m12/12\u001b[0m \u001b[32m━━━━━━━━━━━━━━━━━━━━\u001b[0m\u001b[37m\u001b[0m \u001b[1m0s\u001b[0m 8ms/step - accuracy: 0.6746 - loss: 0.9553 - val_accuracy: 0.5789 - val_loss: 0.9953\n",
            "Epoch 18/125\n",
            "\u001b[1m12/12\u001b[0m \u001b[32m━━━━━━━━━━━━━━━━━━━━\u001b[0m\u001b[37m\u001b[0m \u001b[1m0s\u001b[0m 8ms/step - accuracy: 0.7024 - loss: 0.9399 - val_accuracy: 0.5789 - val_loss: 0.9889\n",
            "Epoch 19/125\n",
            "\u001b[1m12/12\u001b[0m \u001b[32m━━━━━━━━━━━━━━━━━━━━\u001b[0m\u001b[37m\u001b[0m \u001b[1m0s\u001b[0m 8ms/step - accuracy: 0.7101 - loss: 0.9353 - val_accuracy: 0.5789 - val_loss: 0.9837\n",
            "Epoch 20/125\n",
            "\u001b[1m12/12\u001b[0m \u001b[32m━━━━━━━━━━━━━━━━━━━━\u001b[0m\u001b[37m\u001b[0m \u001b[1m0s\u001b[0m 9ms/step - accuracy: 0.6995 - loss: 0.9358 - val_accuracy: 0.5789 - val_loss: 0.9778\n",
            "Epoch 21/125\n",
            "\u001b[1m12/12\u001b[0m \u001b[32m━━━━━━━━━━━━━━━━━━━━\u001b[0m\u001b[37m\u001b[0m \u001b[1m0s\u001b[0m 14ms/step - accuracy: 0.6817 - loss: 0.9336 - val_accuracy: 0.5789 - val_loss: 0.9719\n",
            "Epoch 22/125\n",
            "\u001b[1m12/12\u001b[0m \u001b[32m━━━━━━━━━━━━━━━━━━━━\u001b[0m\u001b[37m\u001b[0m \u001b[1m0s\u001b[0m 14ms/step - accuracy: 0.7042 - loss: 0.9221 - val_accuracy: 0.5789 - val_loss: 0.9668\n",
            "Epoch 23/125\n",
            "\u001b[1m12/12\u001b[0m \u001b[32m━━━━━━━━━━━━━━━━━━━━\u001b[0m\u001b[37m\u001b[0m \u001b[1m0s\u001b[0m 12ms/step - accuracy: 0.7015 - loss: 0.9150 - val_accuracy: 0.5789 - val_loss: 0.9622\n",
            "Epoch 24/125\n",
            "\u001b[1m12/12\u001b[0m \u001b[32m━━━━━━━━━━━━━━━━━━━━\u001b[0m\u001b[37m\u001b[0m \u001b[1m0s\u001b[0m 13ms/step - accuracy: 0.6704 - loss: 0.9248 - val_accuracy: 0.5789 - val_loss: 0.9577\n",
            "Epoch 25/125\n",
            "\u001b[1m12/12\u001b[0m \u001b[32m━━━━━━━━━━━━━━━━━━━━\u001b[0m\u001b[37m\u001b[0m \u001b[1m0s\u001b[0m 13ms/step - accuracy: 0.6922 - loss: 0.9053 - val_accuracy: 0.5789 - val_loss: 0.9539\n",
            "Epoch 26/125\n",
            "\u001b[1m12/12\u001b[0m \u001b[32m━━━━━━━━━━━━━━━━━━━━\u001b[0m\u001b[37m\u001b[0m \u001b[1m0s\u001b[0m 14ms/step - accuracy: 0.6878 - loss: 0.9078 - val_accuracy: 0.5789 - val_loss: 0.9472\n",
            "Epoch 27/125\n",
            "\u001b[1m12/12\u001b[0m \u001b[32m━━━━━━━━━━━━━━━━━━━━\u001b[0m\u001b[37m\u001b[0m \u001b[1m0s\u001b[0m 13ms/step - accuracy: 0.6837 - loss: 0.9018 - val_accuracy: 0.5789 - val_loss: 0.9426\n",
            "Epoch 28/125\n",
            "\u001b[1m12/12\u001b[0m \u001b[32m━━━━━━━━━━━━━━━━━━━━\u001b[0m\u001b[37m\u001b[0m \u001b[1m0s\u001b[0m 14ms/step - accuracy: 0.6875 - loss: 0.8947 - val_accuracy: 0.5789 - val_loss: 0.9380\n",
            "Epoch 29/125\n",
            "\u001b[1m12/12\u001b[0m \u001b[32m━━━━━━━━━━━━━━━━━━━━\u001b[0m\u001b[37m\u001b[0m \u001b[1m0s\u001b[0m 9ms/step - accuracy: 0.6754 - loss: 0.8946 - val_accuracy: 0.5789 - val_loss: 0.9316\n",
            "Epoch 30/125\n",
            "\u001b[1m12/12\u001b[0m \u001b[32m━━━━━━━━━━━━━━━━━━━━\u001b[0m\u001b[37m\u001b[0m \u001b[1m0s\u001b[0m 8ms/step - accuracy: 0.7421 - loss: 0.8595 - val_accuracy: 0.5789 - val_loss: 0.9272\n",
            "Epoch 31/125\n",
            "\u001b[1m12/12\u001b[0m \u001b[32m━━━━━━━━━━━━━━━━━━━━\u001b[0m\u001b[37m\u001b[0m \u001b[1m0s\u001b[0m 9ms/step - accuracy: 0.6632 - loss: 0.8828 - val_accuracy: 0.5789 - val_loss: 0.9209\n",
            "Epoch 32/125\n",
            "\u001b[1m12/12\u001b[0m \u001b[32m━━━━━━━━━━━━━━━━━━━━\u001b[0m\u001b[37m\u001b[0m \u001b[1m0s\u001b[0m 8ms/step - accuracy: 0.7420 - loss: 0.8434 - val_accuracy: 0.5789 - val_loss: 0.9157\n",
            "Epoch 33/125\n",
            "\u001b[1m12/12\u001b[0m \u001b[32m━━━━━━━━━━━━━━━━━━━━\u001b[0m\u001b[37m\u001b[0m \u001b[1m0s\u001b[0m 8ms/step - accuracy: 0.6746 - loss: 0.8715 - val_accuracy: 0.5789 - val_loss: 0.9106\n",
            "Epoch 34/125\n",
            "\u001b[1m12/12\u001b[0m \u001b[32m━━━━━━━━━━━━━━━━━━━━\u001b[0m\u001b[37m\u001b[0m \u001b[1m0s\u001b[0m 8ms/step - accuracy: 0.6488 - loss: 0.8748 - val_accuracy: 0.5789 - val_loss: 0.9050\n",
            "Epoch 35/125\n",
            "\u001b[1m12/12\u001b[0m \u001b[32m━━━━━━━━━━━━━━━━━━━━\u001b[0m\u001b[37m\u001b[0m \u001b[1m0s\u001b[0m 8ms/step - accuracy: 0.7074 - loss: 0.8407 - val_accuracy: 0.5789 - val_loss: 0.8983\n",
            "Epoch 36/125\n",
            "\u001b[1m12/12\u001b[0m \u001b[32m━━━━━━━━━━━━━━━━━━━━\u001b[0m\u001b[37m\u001b[0m \u001b[1m0s\u001b[0m 8ms/step - accuracy: 0.7190 - loss: 0.8298 - val_accuracy: 0.5789 - val_loss: 0.8920\n",
            "Epoch 37/125\n",
            "\u001b[1m12/12\u001b[0m \u001b[32m━━━━━━━━━━━━━━━━━━━━\u001b[0m\u001b[37m\u001b[0m \u001b[1m0s\u001b[0m 8ms/step - accuracy: 0.6752 - loss: 0.8500 - val_accuracy: 0.5789 - val_loss: 0.8884\n",
            "Epoch 38/125\n",
            "\u001b[1m12/12\u001b[0m \u001b[32m━━━━━━━━━━━━━━━━━━━━\u001b[0m\u001b[37m\u001b[0m \u001b[1m0s\u001b[0m 9ms/step - accuracy: 0.7193 - loss: 0.8201 - val_accuracy: 0.5789 - val_loss: 0.8820\n",
            "Epoch 39/125\n",
            "\u001b[1m12/12\u001b[0m \u001b[32m━━━━━━━━━━━━━━━━━━━━\u001b[0m\u001b[37m\u001b[0m \u001b[1m0s\u001b[0m 8ms/step - accuracy: 0.6803 - loss: 0.8335 - val_accuracy: 0.5789 - val_loss: 0.8763\n",
            "Epoch 40/125\n",
            "\u001b[1m12/12\u001b[0m \u001b[32m━━━━━━━━━━━━━━━━━━━━\u001b[0m\u001b[37m\u001b[0m \u001b[1m0s\u001b[0m 8ms/step - accuracy: 0.7320 - loss: 0.7972 - val_accuracy: 0.5789 - val_loss: 0.8706\n",
            "Epoch 41/125\n",
            "\u001b[1m12/12\u001b[0m \u001b[32m━━━━━━━━━━━━━━━━━━━━\u001b[0m\u001b[37m\u001b[0m \u001b[1m0s\u001b[0m 8ms/step - accuracy: 0.7000 - loss: 0.8078 - val_accuracy: 0.5789 - val_loss: 0.8656\n",
            "Epoch 42/125\n",
            "\u001b[1m12/12\u001b[0m \u001b[32m━━━━━━━━━━━━━━━━━━━━\u001b[0m\u001b[37m\u001b[0m \u001b[1m0s\u001b[0m 8ms/step - accuracy: 0.7389 - loss: 0.7859 - val_accuracy: 0.5789 - val_loss: 0.8596\n",
            "Epoch 43/125\n",
            "\u001b[1m12/12\u001b[0m \u001b[32m━━━━━━━━━━━━━━━━━━━━\u001b[0m\u001b[37m\u001b[0m \u001b[1m0s\u001b[0m 8ms/step - accuracy: 0.6967 - loss: 0.7979 - val_accuracy: 0.5789 - val_loss: 0.8526\n",
            "Epoch 44/125\n",
            "\u001b[1m12/12\u001b[0m \u001b[32m━━━━━━━━━━━━━━━━━━━━\u001b[0m\u001b[37m\u001b[0m \u001b[1m0s\u001b[0m 9ms/step - accuracy: 0.6688 - loss: 0.8133 - val_accuracy: 0.5789 - val_loss: 0.8467\n",
            "Epoch 45/125\n",
            "\u001b[1m12/12\u001b[0m \u001b[32m━━━━━━━━━━━━━━━━━━━━\u001b[0m\u001b[37m\u001b[0m \u001b[1m0s\u001b[0m 8ms/step - accuracy: 0.7192 - loss: 0.7779 - val_accuracy: 0.5789 - val_loss: 0.8424\n",
            "Epoch 46/125\n",
            "\u001b[1m12/12\u001b[0m \u001b[32m━━━━━━━━━━━━━━━━━━━━\u001b[0m\u001b[37m\u001b[0m \u001b[1m0s\u001b[0m 8ms/step - accuracy: 0.6932 - loss: 0.7811 - val_accuracy: 0.5789 - val_loss: 0.8377\n",
            "Epoch 47/125\n",
            "\u001b[1m12/12\u001b[0m \u001b[32m━━━━━━━━━━━━━━━━━━━━\u001b[0m\u001b[37m\u001b[0m \u001b[1m0s\u001b[0m 8ms/step - accuracy: 0.7380 - loss: 0.7578 - val_accuracy: 0.5789 - val_loss: 0.8335\n",
            "Epoch 48/125\n",
            "\u001b[1m12/12\u001b[0m \u001b[32m━━━━━━━━━━━━━━━━━━━━\u001b[0m\u001b[37m\u001b[0m \u001b[1m0s\u001b[0m 8ms/step - accuracy: 0.7223 - loss: 0.7602 - val_accuracy: 0.5789 - val_loss: 0.8287\n",
            "Epoch 49/125\n",
            "\u001b[1m12/12\u001b[0m \u001b[32m━━━━━━━━━━━━━━━━━━━━\u001b[0m\u001b[37m\u001b[0m \u001b[1m0s\u001b[0m 8ms/step - accuracy: 0.6438 - loss: 0.7958 - val_accuracy: 0.5789 - val_loss: 0.8227\n",
            "Epoch 50/125\n",
            "\u001b[1m12/12\u001b[0m \u001b[32m━━━━━━━━━━━━━━━━━━━━\u001b[0m\u001b[37m\u001b[0m \u001b[1m0s\u001b[0m 8ms/step - accuracy: 0.6491 - loss: 0.7832 - val_accuracy: 0.5789 - val_loss: 0.8168\n",
            "Epoch 51/125\n",
            "\u001b[1m12/12\u001b[0m \u001b[32m━━━━━━━━━━━━━━━━━━━━\u001b[0m\u001b[37m\u001b[0m \u001b[1m0s\u001b[0m 8ms/step - accuracy: 0.7179 - loss: 0.7453 - val_accuracy: 0.5789 - val_loss: 0.8114\n",
            "Epoch 52/125\n",
            "\u001b[1m12/12\u001b[0m \u001b[32m━━━━━━━━━━━━━━━━━━━━\u001b[0m\u001b[37m\u001b[0m \u001b[1m0s\u001b[0m 8ms/step - accuracy: 0.7173 - loss: 0.7327 - val_accuracy: 0.5789 - val_loss: 0.8048\n",
            "Epoch 53/125\n",
            "\u001b[1m12/12\u001b[0m \u001b[32m━━━━━━━━━━━━━━━━━━━━\u001b[0m\u001b[37m\u001b[0m \u001b[1m0s\u001b[0m 8ms/step - accuracy: 0.7498 - loss: 0.7119 - val_accuracy: 0.5789 - val_loss: 0.7997\n",
            "Epoch 54/125\n",
            "\u001b[1m12/12\u001b[0m \u001b[32m━━━━━━━━━━━━━━━━━━━━\u001b[0m\u001b[37m\u001b[0m \u001b[1m0s\u001b[0m 8ms/step - accuracy: 0.7049 - loss: 0.7287 - val_accuracy: 0.5789 - val_loss: 0.7941\n",
            "Epoch 55/125\n",
            "\u001b[1m12/12\u001b[0m \u001b[32m━━━━━━━━━━━━━━━━━━━━\u001b[0m\u001b[37m\u001b[0m \u001b[1m0s\u001b[0m 8ms/step - accuracy: 0.7163 - loss: 0.7204 - val_accuracy: 0.5789 - val_loss: 0.7896\n",
            "Epoch 56/125\n",
            "\u001b[1m12/12\u001b[0m \u001b[32m━━━━━━━━━━━━━━━━━━━━\u001b[0m\u001b[37m\u001b[0m \u001b[1m0s\u001b[0m 8ms/step - accuracy: 0.7084 - loss: 0.7261 - val_accuracy: 0.5789 - val_loss: 0.7857\n",
            "Epoch 57/125\n",
            "\u001b[1m12/12\u001b[0m \u001b[32m━━━━━━━━━━━━━━━━━━━━\u001b[0m\u001b[37m\u001b[0m \u001b[1m0s\u001b[0m 8ms/step - accuracy: 0.7335 - loss: 0.7058 - val_accuracy: 0.5789 - val_loss: 0.7796\n",
            "Epoch 58/125\n",
            "\u001b[1m12/12\u001b[0m \u001b[32m━━━━━━━━━━━━━━━━━━━━\u001b[0m\u001b[37m\u001b[0m \u001b[1m0s\u001b[0m 8ms/step - accuracy: 0.6784 - loss: 0.7212 - val_accuracy: 0.5789 - val_loss: 0.7734\n",
            "Epoch 59/125\n",
            "\u001b[1m12/12\u001b[0m \u001b[32m━━━━━━━━━━━━━━━━━━━━\u001b[0m\u001b[37m\u001b[0m \u001b[1m0s\u001b[0m 8ms/step - accuracy: 0.6936 - loss: 0.7297 - val_accuracy: 0.5789 - val_loss: 0.7706\n",
            "Epoch 60/125\n",
            "\u001b[1m12/12\u001b[0m \u001b[32m━━━━━━━━━━━━━━━━━━━━\u001b[0m\u001b[37m\u001b[0m \u001b[1m0s\u001b[0m 9ms/step - accuracy: 0.6943 - loss: 0.6960 - val_accuracy: 0.5789 - val_loss: 0.7639\n",
            "Epoch 61/125\n",
            "\u001b[1m12/12\u001b[0m \u001b[32m━━━━━━━━━━━━━━━━━━━━\u001b[0m\u001b[37m\u001b[0m \u001b[1m0s\u001b[0m 12ms/step - accuracy: 0.7109 - loss: 0.6879 - val_accuracy: 0.5789 - val_loss: 0.7605\n",
            "Epoch 62/125\n",
            "\u001b[1m12/12\u001b[0m \u001b[32m━━━━━━━━━━━━━━━━━━━━\u001b[0m\u001b[37m\u001b[0m \u001b[1m0s\u001b[0m 8ms/step - accuracy: 0.7487 - loss: 0.6592 - val_accuracy: 0.5789 - val_loss: 0.7568\n",
            "Epoch 63/125\n",
            "\u001b[1m12/12\u001b[0m \u001b[32m━━━━━━━━━━━━━━━━━━━━\u001b[0m\u001b[37m\u001b[0m \u001b[1m0s\u001b[0m 8ms/step - accuracy: 0.6844 - loss: 0.6918 - val_accuracy: 0.5789 - val_loss: 0.7511\n",
            "Epoch 64/125\n",
            "\u001b[1m12/12\u001b[0m \u001b[32m━━━━━━━━━━━━━━━━━━━━\u001b[0m\u001b[37m\u001b[0m \u001b[1m0s\u001b[0m 8ms/step - accuracy: 0.7047 - loss: 0.6791 - val_accuracy: 0.5789 - val_loss: 0.7451\n",
            "Epoch 65/125\n",
            "\u001b[1m12/12\u001b[0m \u001b[32m━━━━━━━━━━━━━━━━━━━━\u001b[0m\u001b[37m\u001b[0m \u001b[1m0s\u001b[0m 8ms/step - accuracy: 0.7096 - loss: 0.6781 - val_accuracy: 0.5789 - val_loss: 0.7409\n",
            "Epoch 66/125\n",
            "\u001b[1m12/12\u001b[0m \u001b[32m━━━━━━━━━━━━━━━━━━━━\u001b[0m\u001b[37m\u001b[0m \u001b[1m0s\u001b[0m 8ms/step - accuracy: 0.6434 - loss: 0.7074 - val_accuracy: 0.5789 - val_loss: 0.7357\n",
            "Epoch 67/125\n",
            "\u001b[1m12/12\u001b[0m \u001b[32m━━━━━━━━━━━━━━━━━━━━\u001b[0m\u001b[37m\u001b[0m \u001b[1m0s\u001b[0m 9ms/step - accuracy: 0.7067 - loss: 0.6700 - val_accuracy: 0.5789 - val_loss: 0.7311\n",
            "Epoch 68/125\n",
            "\u001b[1m12/12\u001b[0m \u001b[32m━━━━━━━━━━━━━━━━━━━━\u001b[0m\u001b[37m\u001b[0m \u001b[1m0s\u001b[0m 10ms/step - accuracy: 0.7249 - loss: 0.6514 - val_accuracy: 0.5789 - val_loss: 0.7268\n",
            "Epoch 69/125\n",
            "\u001b[1m12/12\u001b[0m \u001b[32m━━━━━━━━━━━━━━━━━━━━\u001b[0m\u001b[37m\u001b[0m \u001b[1m0s\u001b[0m 8ms/step - accuracy: 0.6754 - loss: 0.6752 - val_accuracy: 0.5789 - val_loss: 0.7224\n",
            "Epoch 70/125\n",
            "\u001b[1m12/12\u001b[0m \u001b[32m━━━━━━━━━━━━━━━━━━━━\u001b[0m\u001b[37m\u001b[0m \u001b[1m0s\u001b[0m 7ms/step - accuracy: 0.6468 - loss: 0.6998 - val_accuracy: 0.5789 - val_loss: 0.7191\n",
            "Epoch 71/125\n",
            "\u001b[1m12/12\u001b[0m \u001b[32m━━━━━━━━━━━━━━━━━━━━\u001b[0m\u001b[37m\u001b[0m \u001b[1m0s\u001b[0m 8ms/step - accuracy: 0.6919 - loss: 0.6486 - val_accuracy: 0.5789 - val_loss: 0.7142\n",
            "Epoch 72/125\n",
            "\u001b[1m12/12\u001b[0m \u001b[32m━━━━━━━━━━━━━━━━━━━━\u001b[0m\u001b[37m\u001b[0m \u001b[1m0s\u001b[0m 8ms/step - accuracy: 0.7042 - loss: 0.6561 - val_accuracy: 0.5789 - val_loss: 0.7102\n",
            "Epoch 73/125\n",
            "\u001b[1m12/12\u001b[0m \u001b[32m━━━━━━━━━━━━━━━━━━━━\u001b[0m\u001b[37m\u001b[0m \u001b[1m0s\u001b[0m 8ms/step - accuracy: 0.6610 - loss: 0.6645 - val_accuracy: 0.5789 - val_loss: 0.7053\n",
            "Epoch 74/125\n",
            "\u001b[1m12/12\u001b[0m \u001b[32m━━━━━━━━━━━━━━━━━━━━\u001b[0m\u001b[37m\u001b[0m \u001b[1m0s\u001b[0m 8ms/step - accuracy: 0.6987 - loss: 0.6473 - val_accuracy: 0.5789 - val_loss: 0.7010\n",
            "Epoch 75/125\n",
            "\u001b[1m12/12\u001b[0m \u001b[32m━━━━━━━━━━━━━━━━━━━━\u001b[0m\u001b[37m\u001b[0m \u001b[1m0s\u001b[0m 12ms/step - accuracy: 0.7168 - loss: 0.6180 - val_accuracy: 0.5789 - val_loss: 0.6984\n",
            "Epoch 76/125\n",
            "\u001b[1m12/12\u001b[0m \u001b[32m━━━━━━━━━━━━━━━━━━━━\u001b[0m\u001b[37m\u001b[0m \u001b[1m0s\u001b[0m 8ms/step - accuracy: 0.6575 - loss: 0.6546 - val_accuracy: 0.5789 - val_loss: 0.6960\n",
            "Epoch 77/125\n",
            "\u001b[1m12/12\u001b[0m \u001b[32m━━━━━━━━━━━━━━━━━━━━\u001b[0m\u001b[37m\u001b[0m \u001b[1m0s\u001b[0m 8ms/step - accuracy: 0.6846 - loss: 0.6317 - val_accuracy: 0.5789 - val_loss: 0.6922\n",
            "Epoch 78/125\n",
            "\u001b[1m12/12\u001b[0m \u001b[32m━━━━━━━━━━━━━━━━━━━━\u001b[0m\u001b[37m\u001b[0m \u001b[1m0s\u001b[0m 8ms/step - accuracy: 0.6570 - loss: 0.6635 - val_accuracy: 0.5789 - val_loss: 0.6874\n",
            "Epoch 79/125\n",
            "\u001b[1m12/12\u001b[0m \u001b[32m━━━━━━━━━━━━━━━━━━━━\u001b[0m\u001b[37m\u001b[0m \u001b[1m0s\u001b[0m 8ms/step - accuracy: 0.6797 - loss: 0.6291 - val_accuracy: 0.5789 - val_loss: 0.6822\n",
            "Epoch 80/125\n",
            "\u001b[1m12/12\u001b[0m \u001b[32m━━━━━━━━━━━━━━━━━━━━\u001b[0m\u001b[37m\u001b[0m \u001b[1m0s\u001b[0m 11ms/step - accuracy: 0.6514 - loss: 0.6411 - val_accuracy: 0.5789 - val_loss: 0.6782\n",
            "Epoch 81/125\n",
            "\u001b[1m12/12\u001b[0m \u001b[32m━━━━━━━━━━━━━━━━━━━━\u001b[0m\u001b[37m\u001b[0m \u001b[1m0s\u001b[0m 8ms/step - accuracy: 0.6897 - loss: 0.6295 - val_accuracy: 0.5789 - val_loss: 0.6748\n",
            "Epoch 82/125\n",
            "\u001b[1m12/12\u001b[0m \u001b[32m━━━━━━━━━━━━━━━━━━━━\u001b[0m\u001b[37m\u001b[0m \u001b[1m0s\u001b[0m 8ms/step - accuracy: 0.6933 - loss: 0.6041 - val_accuracy: 0.5789 - val_loss: 0.6707\n",
            "Epoch 83/125\n",
            "\u001b[1m12/12\u001b[0m \u001b[32m━━━━━━━━━━━━━━━━━━━━\u001b[0m\u001b[37m\u001b[0m \u001b[1m0s\u001b[0m 9ms/step - accuracy: 0.6765 - loss: 0.6213 - val_accuracy: 0.5789 - val_loss: 0.6658\n",
            "Epoch 84/125\n",
            "\u001b[1m12/12\u001b[0m \u001b[32m━━━━━━━━━━━━━━━━━━━━\u001b[0m\u001b[37m\u001b[0m \u001b[1m0s\u001b[0m 8ms/step - accuracy: 0.6727 - loss: 0.6230 - val_accuracy: 0.5789 - val_loss: 0.6613\n",
            "Epoch 85/125\n",
            "\u001b[1m12/12\u001b[0m \u001b[32m━━━━━━━━━━━━━━━━━━━━\u001b[0m\u001b[37m\u001b[0m \u001b[1m0s\u001b[0m 8ms/step - accuracy: 0.6800 - loss: 0.5991 - val_accuracy: 0.5789 - val_loss: 0.6578\n",
            "Epoch 86/125\n",
            "\u001b[1m12/12\u001b[0m \u001b[32m━━━━━━━━━━━━━━━━━━━━\u001b[0m\u001b[37m\u001b[0m \u001b[1m0s\u001b[0m 11ms/step - accuracy: 0.7793 - loss: 0.5375 - val_accuracy: 0.5789 - val_loss: 0.6543\n",
            "Epoch 87/125\n",
            "\u001b[1m12/12\u001b[0m \u001b[32m━━━━━━━━━━━━━━━━━━━━\u001b[0m\u001b[37m\u001b[0m \u001b[1m0s\u001b[0m 11ms/step - accuracy: 0.6751 - loss: 0.5999 - val_accuracy: 0.5789 - val_loss: 0.6493\n",
            "Epoch 88/125\n",
            "\u001b[1m12/12\u001b[0m \u001b[32m━━━━━━━━━━━━━━━━━━━━\u001b[0m\u001b[37m\u001b[0m \u001b[1m0s\u001b[0m 8ms/step - accuracy: 0.7030 - loss: 0.5723 - val_accuracy: 0.5789 - val_loss: 0.6450\n",
            "Epoch 89/125\n",
            "\u001b[1m12/12\u001b[0m \u001b[32m━━━━━━━━━━━━━━━━━━━━\u001b[0m\u001b[37m\u001b[0m \u001b[1m0s\u001b[0m 8ms/step - accuracy: 0.6798 - loss: 0.5936 - val_accuracy: 0.5789 - val_loss: 0.6424\n",
            "Epoch 90/125\n",
            "\u001b[1m12/12\u001b[0m \u001b[32m━━━━━━━━━━━━━━━━━━━━\u001b[0m\u001b[37m\u001b[0m \u001b[1m0s\u001b[0m 9ms/step - accuracy: 0.6916 - loss: 0.5892 - val_accuracy: 0.5789 - val_loss: 0.6413\n",
            "Epoch 91/125\n",
            "\u001b[1m12/12\u001b[0m \u001b[32m━━━━━━━━━━━━━━━━━━━━\u001b[0m\u001b[37m\u001b[0m \u001b[1m0s\u001b[0m 8ms/step - accuracy: 0.6496 - loss: 0.6018 - val_accuracy: 0.5789 - val_loss: 0.6370\n",
            "Epoch 92/125\n",
            "\u001b[1m12/12\u001b[0m \u001b[32m━━━━━━━━━━━━━━━━━━━━\u001b[0m\u001b[37m\u001b[0m \u001b[1m0s\u001b[0m 8ms/step - accuracy: 0.6947 - loss: 0.5764 - val_accuracy: 0.5789 - val_loss: 0.6328\n",
            "Epoch 93/125\n",
            "\u001b[1m12/12\u001b[0m \u001b[32m━━━━━━━━━━━━━━━━━━━━\u001b[0m\u001b[37m\u001b[0m \u001b[1m0s\u001b[0m 8ms/step - accuracy: 0.7104 - loss: 0.5711 - val_accuracy: 0.5789 - val_loss: 0.6301\n",
            "Epoch 94/125\n",
            "\u001b[1m12/12\u001b[0m \u001b[32m━━━━━━━━━━━━━━━━━━━━\u001b[0m\u001b[37m\u001b[0m \u001b[1m0s\u001b[0m 8ms/step - accuracy: 0.7015 - loss: 0.5686 - val_accuracy: 0.5789 - val_loss: 0.6261\n",
            "Epoch 95/125\n",
            "\u001b[1m12/12\u001b[0m \u001b[32m━━━━━━━━━━━━━━━━━━━━\u001b[0m\u001b[37m\u001b[0m \u001b[1m0s\u001b[0m 8ms/step - accuracy: 0.6536 - loss: 0.6010 - val_accuracy: 0.5789 - val_loss: 0.6215\n",
            "Epoch 96/125\n",
            "\u001b[1m12/12\u001b[0m \u001b[32m━━━━━━━━━━━━━━━━━━━━\u001b[0m\u001b[37m\u001b[0m \u001b[1m0s\u001b[0m 8ms/step - accuracy: 0.7014 - loss: 0.5890 - val_accuracy: 0.5789 - val_loss: 0.6178\n",
            "Epoch 97/125\n",
            "\u001b[1m12/12\u001b[0m \u001b[32m━━━━━━━━━━━━━━━━━━━━\u001b[0m\u001b[37m\u001b[0m \u001b[1m0s\u001b[0m 8ms/step - accuracy: 0.7050 - loss: 0.5635 - val_accuracy: 0.5789 - val_loss: 0.6159\n",
            "Epoch 98/125\n",
            "\u001b[1m12/12\u001b[0m \u001b[32m━━━━━━━━━━━━━━━━━━━━\u001b[0m\u001b[37m\u001b[0m \u001b[1m0s\u001b[0m 9ms/step - accuracy: 0.7238 - loss: 0.5525 - val_accuracy: 0.5789 - val_loss: 0.6136\n",
            "Epoch 99/125\n",
            "\u001b[1m12/12\u001b[0m \u001b[32m━━━━━━━━━━━━━━━━━━━━\u001b[0m\u001b[37m\u001b[0m \u001b[1m0s\u001b[0m 8ms/step - accuracy: 0.6641 - loss: 0.5851 - val_accuracy: 0.5789 - val_loss: 0.6111\n",
            "Epoch 100/125\n",
            "\u001b[1m12/12\u001b[0m \u001b[32m━━━━━━━━━━━━━━━━━━━━\u001b[0m\u001b[37m\u001b[0m \u001b[1m0s\u001b[0m 8ms/step - accuracy: 0.6732 - loss: 0.5753 - val_accuracy: 0.5789 - val_loss: 0.6075\n",
            "Epoch 101/125\n",
            "\u001b[1m12/12\u001b[0m \u001b[32m━━━━━━━━━━━━━━━━━━━━\u001b[0m\u001b[37m\u001b[0m \u001b[1m0s\u001b[0m 8ms/step - accuracy: 0.7094 - loss: 0.5581 - val_accuracy: 0.5789 - val_loss: 0.6046\n",
            "Epoch 102/125\n",
            "\u001b[1m12/12\u001b[0m \u001b[32m━━━━━━━━━━━━━━━━━━━━\u001b[0m\u001b[37m\u001b[0m \u001b[1m0s\u001b[0m 9ms/step - accuracy: 0.7316 - loss: 0.5391 - val_accuracy: 0.5789 - val_loss: 0.6008\n",
            "Epoch 103/125\n",
            "\u001b[1m12/12\u001b[0m \u001b[32m━━━━━━━━━━━━━━━━━━━━\u001b[0m\u001b[37m\u001b[0m \u001b[1m0s\u001b[0m 14ms/step - accuracy: 0.7065 - loss: 0.5499 - val_accuracy: 0.5789 - val_loss: 0.5972\n",
            "Epoch 104/125\n",
            "\u001b[1m12/12\u001b[0m \u001b[32m━━━━━━━━━━━━━━━━━━━━\u001b[0m\u001b[37m\u001b[0m \u001b[1m0s\u001b[0m 13ms/step - accuracy: 0.7135 - loss: 0.5662 - val_accuracy: 0.5789 - val_loss: 0.5951\n",
            "Epoch 105/125\n",
            "\u001b[1m12/12\u001b[0m \u001b[32m━━━━━━━━━━━━━━━━━━━━\u001b[0m\u001b[37m\u001b[0m \u001b[1m0s\u001b[0m 11ms/step - accuracy: 0.7294 - loss: 0.5251 - val_accuracy: 0.5789 - val_loss: 0.5923\n",
            "Epoch 106/125\n",
            "\u001b[1m12/12\u001b[0m \u001b[32m━━━━━━━━━━━━━━━━━━━━\u001b[0m\u001b[37m\u001b[0m \u001b[1m0s\u001b[0m 11ms/step - accuracy: 0.6842 - loss: 0.5611 - val_accuracy: 0.5789 - val_loss: 0.5885\n",
            "Epoch 107/125\n",
            "\u001b[1m12/12\u001b[0m \u001b[32m━━━━━━━━━━━━━━━━━━━━\u001b[0m\u001b[37m\u001b[0m \u001b[1m0s\u001b[0m 11ms/step - accuracy: 0.7173 - loss: 0.5442 - val_accuracy: 0.5789 - val_loss: 0.5868\n",
            "Epoch 108/125\n",
            "\u001b[1m12/12\u001b[0m \u001b[32m━━━━━━━━━━━━━━━━━━━━\u001b[0m\u001b[37m\u001b[0m \u001b[1m0s\u001b[0m 14ms/step - accuracy: 0.6975 - loss: 0.5206 - val_accuracy: 0.5789 - val_loss: 0.5849\n",
            "Epoch 109/125\n",
            "\u001b[1m12/12\u001b[0m \u001b[32m━━━━━━━━━━━━━━━━━━━━\u001b[0m\u001b[37m\u001b[0m \u001b[1m0s\u001b[0m 14ms/step - accuracy: 0.6664 - loss: 0.5477 - val_accuracy: 0.5789 - val_loss: 0.5813\n",
            "Epoch 110/125\n",
            "\u001b[1m12/12\u001b[0m \u001b[32m━━━━━━━━━━━━━━━━━━━━\u001b[0m\u001b[37m\u001b[0m \u001b[1m0s\u001b[0m 8ms/step - accuracy: 0.6979 - loss: 0.5313 - val_accuracy: 0.5789 - val_loss: 0.5788\n",
            "Epoch 111/125\n",
            "\u001b[1m12/12\u001b[0m \u001b[32m━━━━━━━━━━━━━━━━━━━━\u001b[0m\u001b[37m\u001b[0m \u001b[1m0s\u001b[0m 8ms/step - accuracy: 0.7452 - loss: 0.4904 - val_accuracy: 0.5789 - val_loss: 0.5765\n",
            "Epoch 112/125\n",
            "\u001b[1m12/12\u001b[0m \u001b[32m━━━━━━━━━━━━━━━━━━━━\u001b[0m\u001b[37m\u001b[0m \u001b[1m0s\u001b[0m 8ms/step - accuracy: 0.7563 - loss: 0.4869 - val_accuracy: 0.5789 - val_loss: 0.5749\n",
            "Epoch 113/125\n",
            "\u001b[1m12/12\u001b[0m \u001b[32m━━━━━━━━━━━━━━━━━━━━\u001b[0m\u001b[37m\u001b[0m \u001b[1m0s\u001b[0m 9ms/step - accuracy: 0.6903 - loss: 0.5414 - val_accuracy: 0.5789 - val_loss: 0.5731\n",
            "Epoch 114/125\n",
            "\u001b[1m12/12\u001b[0m \u001b[32m━━━━━━━━━━━━━━━━━━━━\u001b[0m\u001b[37m\u001b[0m \u001b[1m0s\u001b[0m 12ms/step - accuracy: 0.7384 - loss: 0.4942 - val_accuracy: 0.5789 - val_loss: 0.5700\n",
            "Epoch 115/125\n",
            "\u001b[1m12/12\u001b[0m \u001b[32m━━━━━━━━━━━━━━━━━━━━\u001b[0m\u001b[37m\u001b[0m \u001b[1m0s\u001b[0m 8ms/step - accuracy: 0.7350 - loss: 0.5043 - val_accuracy: 0.5789 - val_loss: 0.5670\n",
            "Epoch 116/125\n",
            "\u001b[1m12/12\u001b[0m \u001b[32m━━━━━━━━━━━━━━━━━━━━\u001b[0m\u001b[37m\u001b[0m \u001b[1m0s\u001b[0m 8ms/step - accuracy: 0.7603 - loss: 0.4843 - val_accuracy: 0.5789 - val_loss: 0.5664\n",
            "Epoch 117/125\n",
            "\u001b[1m12/12\u001b[0m \u001b[32m━━━━━━━━━━━━━━━━━━━━\u001b[0m\u001b[37m\u001b[0m \u001b[1m0s\u001b[0m 8ms/step - accuracy: 0.7618 - loss: 0.4841 - val_accuracy: 0.5789 - val_loss: 0.5634\n",
            "Epoch 118/125\n",
            "\u001b[1m12/12\u001b[0m \u001b[32m━━━━━━━━━━━━━━━━━━━━\u001b[0m\u001b[37m\u001b[0m \u001b[1m0s\u001b[0m 8ms/step - accuracy: 0.7632 - loss: 0.4762 - val_accuracy: 0.5789 - val_loss: 0.5594\n",
            "Epoch 119/125\n",
            "\u001b[1m12/12\u001b[0m \u001b[32m━━━━━━━━━━━━━━━━━━━━\u001b[0m\u001b[37m\u001b[0m \u001b[1m0s\u001b[0m 9ms/step - accuracy: 0.7584 - loss: 0.4813 - val_accuracy: 0.6316 - val_loss: 0.5549\n",
            "Epoch 120/125\n",
            "\u001b[1m12/12\u001b[0m \u001b[32m━━━━━━━━━━━━━━━━━━━━\u001b[0m\u001b[37m\u001b[0m \u001b[1m0s\u001b[0m 9ms/step - accuracy: 0.7230 - loss: 0.5495 - val_accuracy: 0.6316 - val_loss: 0.5533\n",
            "Epoch 121/125\n",
            "\u001b[1m12/12\u001b[0m \u001b[32m━━━━━━━━━━━━━━━━━━━━\u001b[0m\u001b[37m\u001b[0m \u001b[1m0s\u001b[0m 11ms/step - accuracy: 0.8106 - loss: 0.4474 - val_accuracy: 0.6316 - val_loss: 0.5525\n",
            "Epoch 122/125\n",
            "\u001b[1m12/12\u001b[0m \u001b[32m━━━━━━━━━━━━━━━━━━━━\u001b[0m\u001b[37m\u001b[0m \u001b[1m0s\u001b[0m 8ms/step - accuracy: 0.7703 - loss: 0.4558 - val_accuracy: 0.6579 - val_loss: 0.5485\n",
            "Epoch 123/125\n",
            "\u001b[1m12/12\u001b[0m \u001b[32m━━━━━━━━━━━━━━━━━━━━\u001b[0m\u001b[37m\u001b[0m \u001b[1m0s\u001b[0m 8ms/step - accuracy: 0.7931 - loss: 0.4949 - val_accuracy: 0.6579 - val_loss: 0.5466\n",
            "Epoch 124/125\n",
            "\u001b[1m12/12\u001b[0m \u001b[32m━━━━━━━━━━━━━━━━━━━━\u001b[0m\u001b[37m\u001b[0m \u001b[1m0s\u001b[0m 9ms/step - accuracy: 0.7673 - loss: 0.4674 - val_accuracy: 0.6579 - val_loss: 0.5420\n",
            "Epoch 125/125\n",
            "\u001b[1m12/12\u001b[0m \u001b[32m━━━━━━━━━━━━━━━━━━━━\u001b[0m\u001b[37m\u001b[0m \u001b[1m0s\u001b[0m 9ms/step - accuracy: 0.7686 - loss: 0.5238 - val_accuracy: 0.6579 - val_loss: 0.5403\n"
          ]
        }
      ]
    },
    {
      "cell_type": "markdown",
      "source": [
        "* x_train, y_train_cat: The actual training data (features and target) used to teach the model.\n",
        "* batch_size=10: The model updates its settings after seeing 10 samples, striking a balance between speed and stability.\n",
        "* epochs=125: The model processes the entire training data 125 times, giving it opportunities to improve.\n",
        "* verbose=1: Prints information during training, letting you track progress.\n",
        "* validation_data=(x_test, y_test_cat): Uses separate test data to evaluate how well the model generalizes to unseen examples."
      ],
      "metadata": {
        "id": "j2y7MRM_4sEZ"
      }
    },
    {
      "cell_type": "markdown",
      "metadata": {
        "id": "DNUot-6FpnUK"
      },
      "source": [
        "Exercise 7: Plot and Analyse"
      ]
    },
    {
      "cell_type": "code",
      "metadata": {
        "id": "PX6Zn6cEpvB6",
        "colab": {
          "base_uri": "https://localhost:8080/",
          "height": 927
        },
        "outputId": "9c3c2d7c-e1c7-4f40-f87c-ba1f2d888200"
      },
      "source": [
        "# plot the history of the training\n",
        "import matplotlib.pyplot as plt\n",
        "\n",
        "# summarize the history for accuracy\n",
        "plt.plot(history.history['accuracy'])\n",
        "plt.plot(history.history['val_accuracy'])\n",
        "plt.title('model accuracy')\n",
        "plt.ylabel('accuracy')\n",
        "plt.xlabel('epoch')\n",
        "plt.legend(['train','test'], loc='upper left')\n",
        "plt.show()\n",
        "\n",
        "# summarize the history for loss\n",
        "plt.plot(history.history['loss'])\n",
        "plt.plot(history.history['val_loss'])\n",
        "plt.title('model loss')\n",
        "plt.ylabel('loss')\n",
        "plt.xlabel('epoch')\n",
        "plt.legend(['train','test'], loc='upper left')\n",
        "plt.show()"
      ],
      "execution_count": 18,
      "outputs": [
        {
          "output_type": "display_data",
          "data": {
            "text/plain": [
              "<Figure size 640x480 with 1 Axes>"
            ],
            "image/png": "[encoded data removed]"
          },
          "metadata": {}
        },
        {
          "output_type": "display_data",
          "data": {
            "text/plain": [
              "<Figure size 640x480 with 1 Axes>"
            ],
            "image/png": "[encoded data removed]"
          },
          "metadata": {}
        }
      ]
    },
    {
      "cell_type": "markdown",
      "source": [
        "* Accuracy Plot:\n",
        "\n",
        "  * Both training and test accuracy increase over epochs, indicating the model is learning.\n",
        "  * Test accuracy is slightly lower than training accuracy, which is expected (model performs better on data it's seen before).\n",
        "  * Accuracy stabilizes around epoch 50, suggesting further training might not yield significant improvements.\n",
        "\n",
        "* Loss Plot:\n",
        "\n",
        "  * Both training and test loss decrease over epochs, indicating the model is making better predictions.\n",
        "  * Similar to accuracy, test loss is slightly higher than training loss, which is normal.\n",
        "  * Loss also stabilizes around epoch 50, reinforcing the observation from the accuracy plot.\n",
        "\n",
        "* Overall:\n",
        "\n",
        "The plots suggest the model is learning effectively and generalizing reasonably well to unseen data. The stabilization around epoch 50 indicates that the model has likely converged and further training might lead to overfitting (memorizing the training data too well and performing poorly on new data).**"
      ],
      "metadata": {
        "id": "WS-P_zEh7HBo"
      }
    },
    {
      "cell_type": "markdown",
      "metadata": {
        "id": "d5-7RoQLWwv8"
      },
      "source": [
        "## Change the number of units in the hidden layer to 10.  What effect do these changes have on the accuracy?\n",
        "\n",
        "You will need to re-compile and re-fit the model and re-plot the training history."
      ]
    },
    {
      "cell_type": "markdown",
      "metadata": {
        "id": "Y2aGMkz_XJhJ"
      },
      "source": [
        "## Make the neural network into a deep neural network by adding a layer.  What effect do these changes have on the accuracy?"
      ]
    }
  ]
}